{
 "cells": [
  {
   "cell_type": "markdown",
   "metadata": {},
   "source": [
    "<img align=\"left\" src=\"https://lever-client-logos.s3.amazonaws.com/864372b1-534c-480e-acd5-9711f850815c-1524247202159.png\" width=200>\n",
    "<br></br>\n",
    "<br></br>\n",
    "\n",
    "## *Data Science Unit 4 Sprint 2 Assignment 2*\n",
    "\n",
    "# Document Representations: Bag-Of-Words"
   ]
  },
  {
   "cell_type": "code",
   "execution_count": 2,
   "metadata": {
    "colab": {
     "base_uri": "https://localhost:8080/",
     "height": 159
    },
    "colab_type": "code",
    "id": "hyj-f9FDcVFp",
    "outputId": "5dd045fe-6e4c-458c-e2fc-253c3da9c805"
   },
   "outputs": [],
   "source": [
    "import re\n",
    "import string\n",
    "\n",
    "#!pip install -U nltk\n",
    "\n",
    "import nltk\n",
    "#nltk.download('punkt')\n",
    "#nltk.download('stopwords')\n",
    "from nltk.tokenize import sent_tokenize # Sentence Tokenizer\n",
    "from nltk.tokenize import word_tokenize # Word Tokenizer\n",
    "from nltk.corpus import stopwords\n",
    "from nltk.stem.porter import PorterStemmer\n",
    "from nltk.stem.wordnet import WordNetLemmatizer\n",
    "from nltk.probability import FreqDist\n",
    "\n",
    "from sklearn.feature_extraction.text import CountVectorizer\n",
    "from sklearn.feature_extraction.text import TfidfVectorizer\n",
    "import matplotlib.pyplot as plt\n",
    "import pandas as pd\n",
    "import numpy as np"
   ]
  },
  {
   "cell_type": "markdown",
   "metadata": {
    "colab_type": "text",
    "id": "M7bcmqfGXrFG"
   },
   "source": [
    "# 1) (optional) Scrape 100 Job Listings that contain the title \"Data Scientist\" from indeed.com\n",
    "\n",
    "At a minimum your final dataframe of job listings should contain\n",
    "- Job Title\n",
    "- Job Description\n",
    "\n",
    "If you choose to not to scrape the data, there is a CSV with outdated data in the directory. Remeber, if you scrape Indeed, you're helping yourself find a job. ;)"
   ]
  },
  {
   "cell_type": "code",
   "execution_count": 6,
   "metadata": {
    "colab": {},
    "colab_type": "code",
    "id": "KcYlc1URXhlC"
   },
   "outputs": [],
   "source": [
    "import requests \n",
    "import bs4\n",
    "from bs4 import BeautifulSoup\n",
    "import time"
   ]
  },
  {
   "cell_type": "code",
   "execution_count": 20,
   "metadata": {},
   "outputs": [],
   "source": [
    "url_i = 'https://www.indeed.com/jobs?q=data+scientist&l=Virginia&start=10'\n",
    "\n",
    "page = requests.get(url_i)\n",
    "\n",
    "soup = BeautifulSoup(page.text, \"html.parser\")\n",
    "#print(soup.prettify())"
   ]
  },
  {
   "cell_type": "code",
   "execution_count": 8,
   "metadata": {},
   "outputs": [],
   "source": [
    "def get_job_title(soup):\n",
    "    jobs = []\n",
    "    for div in soup.find_all(name=\"div\", attrs={\"class\":\"row\"}):\n",
    "        for a in div.find_all(name=\"a\", attrs={\"data-tn-element\":\"jobTitle\"}):\n",
    "            jobs.append(a[\"title\"])\n",
    "    return(jobs)"
   ]
  },
  {
   "cell_type": "code",
   "execution_count": 95,
   "metadata": {},
   "outputs": [
    {
     "name": "stdout",
     "output_type": "stream",
     "text": [
      "Data Scientist\n",
      "Data Scientist\n",
      "Data Scientist\n",
      "Data Scientist/Analyst (DOD Secret Required)\n",
      "Data Scientist\n",
      "Senior Associate, Data Scientist- Bank Operations\n",
      "Data Scientist\n",
      "Data Scientist\n",
      "Data Scientist (Secret Clearance)\n",
      "Data Scientist\n",
      "Network Data Scientist\n",
      "Data Scientist\n",
      "Data Scientist - Path Forward Returnship\n",
      "Senior Data Scientist\n",
      "Data Scientist\n",
      "Data Scientist - You Make Data Sing\n",
      "Data Scientist\n",
      "Data Scientist\n",
      "Data Scientist\n",
      "\n",
      "\n",
      "len:  19\n"
     ]
    }
   ],
   "source": [
    "ttls = get_job_title(soup)\n",
    "for t in ttls: print(t)\n",
    "print('\\n\\nlen: ', len(ttls))"
   ]
  },
  {
   "cell_type": "code",
   "execution_count": 10,
   "metadata": {},
   "outputs": [],
   "source": [
    "def get_company(soup):\n",
    "    companies = []\n",
    "    for div in soup.find_all(name='div', attrs={'class':'row'}):\n",
    "        company = div.find_all(name='span', attrs={'class':'company'})\n",
    "        if len(company) > 0:\n",
    "            for c in company:\n",
    "                companies.append(c.text.strip())\n",
    "        else:\n",
    "            other_c = div.find_all(name='span', attrs={'class':'result-link-source'})\n",
    "            for c in other_c:\n",
    "                companies.append(c.text.strip())\n",
    "    return(companies)"
   ]
  },
  {
   "cell_type": "code",
   "execution_count": 94,
   "metadata": {},
   "outputs": [
    {
     "name": "stdout",
     "output_type": "stream",
     "text": [
      "Indeed Prime\n",
      "Ethics & Compliance Initiative (ECI)\n",
      "Elder Research Inc\n",
      "Stem IT\n",
      "Smithfield Foods\n",
      "Capital One\n",
      "Verizon\n",
      "PwC\n",
      "MRP\n",
      "Amazon Web Services, Inc.\n",
      "Verizon\n",
      "CACI\n",
      "Walmart\n",
      "MRP\n",
      "Uniforce Technologies\n",
      "NT Concepts\n",
      "Axiologic Solutions\n",
      "Dogwood Management Partners\n",
      "PRA Group, Inc.\n",
      "\n",
      "\n",
      "len:  19\n"
     ]
    }
   ],
   "source": [
    "cmpny = get_company(soup)\n",
    "for c in cmpny: print(c)\n",
    "print('\\n\\nlen: ', len(cmpny))"
   ]
  },
  {
   "cell_type": "code",
   "execution_count": 77,
   "metadata": {},
   "outputs": [],
   "source": [
    "def get_loc(soup):\n",
    "    locations = []\n",
    "    for div in soup.find_all(name='div', attrs={'class':'row'}):\n",
    "        loc = div.find(name='span', attrs={'class':'location'})\n",
    "        if loc != None:\n",
    "            locations.append(loc.text.strip())\n",
    "        else:\n",
    "            sjcl = div.find_all(name='div', attrs={'class':'sjcl'})\n",
    "            for s in sjcl:\n",
    "                loc = s.find(name='div', attrs={'class':'location'})\n",
    "                locations.append(loc.text.strip())\n",
    "    return(locations)"
   ]
  },
  {
   "cell_type": "code",
   "execution_count": 96,
   "metadata": {},
   "outputs": [
    {
     "name": "stdout",
     "output_type": "stream",
     "text": [
      "Richmond, VA\n",
      "Vienna, VA 22180\n",
      "Arlington, VA 22201 (Lyon Village area)\n",
      "Arlington, VA\n",
      "Smithfield, VA 23430\n",
      "Richmond, VA 23233\n",
      "Ashburn, VA 20147\n",
      "Arlington, VA 22209 (Radnor-Ft Myer Heights area)\n",
      "Tysons Corner, VA\n",
      "Virginia\n",
      "Ashburn, VA 20147\n",
      "Reston, VA 20190\n",
      "Reston, VA\n",
      "Reston, VA\n",
      "Richmond, VA\n",
      "Vienna, VA 22182\n",
      "Virginia\n",
      "Reston, VA\n",
      "Norfolk, VA\n",
      "\n",
      "\n",
      "len:  19\n"
     ]
    }
   ],
   "source": [
    "loca = get_loc(soup)\n",
    "for l in loca: print(l)\n",
    "print('\\n\\nlen: ', len(loca))"
   ]
  },
  {
   "cell_type": "code",
   "execution_count": 82,
   "metadata": {},
   "outputs": [],
   "source": [
    "def get_summary(soup):\n",
    "    summaries = []\n",
    "    for div in soup.find_all(name='div', attrs={'class':'row'}):\n",
    "        summ = div.find(name='div', attrs={'class':'summary'})\n",
    "        summaries.append(summ.text.strip())\n",
    "    return(summaries)"
   ]
  },
  {
   "cell_type": "code",
   "execution_count": 97,
   "metadata": {},
   "outputs": [
    {
     "name": "stdout",
     "output_type": "stream",
     "text": [
      "You bring unique qualities and traits that stand out and make an impact. We look for top tech talent to join the Indeed Prime platform....\n",
      "Experience creating and using advanced machine learning algorithms and statistics:. Develop and/or enhance existing data models and algorithms....\n",
      "Git, svn, Mercurial) and collaborative programming techniques (e.g. Bachelor’s of Science degree in a technical field. Experience using version control (e.g....\n",
      "Bachelors degree in related field. Proficient with Python and R languages. Experience with SQL and/or Postgres. Full-time Direct hire with amazing benefits....\n",
      "Considerable experience in solving business problems with advanced analytical solutions. Perform large-scale experimentation and build data-driven models to...\n",
      "Senior Associate, Data Scientist- Bank Operations. Senior Associate Data Scientist, Bank Operations Data Science....\n",
      "Work cross functionally with teams to develop growth and retention strategies. Experience with SQL and either Python, R or SAS. Even better if you have:....\n",
      "Data visualization tools - e.g., D3.JS, Gephi. Machine learning/predictive modeling, natural language processing, statistical analysis, simulation modeling,...\n",
      "You will receive the following benefits:. BS or MS in Computer Science, Mathematics or other related fields. 2-4 years of relevant experience in Data Science....\n",
      "5+ years of experience of foundational statistics concepts and ML algorithms:. Experience with working on large data sets, especially with Hadoop and Spark....\n",
      "New technology validation and prototyping. Experience in L2/L3 switching and routing protocols and technologies (e.g., spine/leaf architectures, etc.)....\n",
      "As a Data scientist, you will be responsible for discovering overall information hidden in profound amounts of data. Interpreting data to discover solutions....\n",
      "Building large data sets from multiple sources in order to build algorithms for predicting future data characteristics....\n",
      "Bachelor’s degree in Data Science, Statistics, or related field. Experience using data visualization tools such as Tableau to analyze and present data....\n",
      "Bachelor’s degree in Statistics/Data Science. Excellent Communication & Presentation Skills. Leveraging Machine Learning algorithms including but not limited to...\n",
      "NT Concepts is a national security solutions firm that likes to solve hard problems. Ultimately, we need someone who knows their way around data modeling,...\n",
      "AWS, Atlassian Suite products like Jira/Confluence and AWS Cloud experience desired. Bachelor’s Degree in computer science, information systems management,...\n",
      "Solid knowledge of statistical techniques. Experience working within Agile methodologies. Demonstrable knowledge on the following technologies:....\n",
      "MS in Computer Science or related field with research in machine learning. Experience with one or more of the following:....\n",
      "\n",
      "\n",
      "len:  19\n"
     ]
    }
   ],
   "source": [
    "smry = get_summary(soup)\n",
    "for s in smry: print(s)\n",
    "print('\\n\\nlen: ', len(smry))"
   ]
  },
  {
   "cell_type": "code",
   "execution_count": 106,
   "metadata": {},
   "outputs": [],
   "source": [
    "columns = ['job_title', 'company_name', 'location', 'summary']\n",
    "\n",
    "jobs = pd.DataFrame(columns=columns)\n",
    "    "
   ]
  },
  {
   "cell_type": "code",
   "execution_count": 107,
   "metadata": {},
   "outputs": [],
   "source": [
    "for start in range(0, 100, 10):\n",
    "    \n",
    "    url_i = 'https://www.indeed.com/jobs?q=data+scientist&l=Virginia&start=10'\n",
    "\n",
    "    page = requests.get(url_i)\n",
    "    soup = BeautifulSoup(page.text, \"html.parser\")\n",
    "    \n",
    "    titles = get_job_title(soup)\n",
    "    companies = get_company(soup)\n",
    "    locations = get_loc(soup)\n",
    "    summary = get_summary(soup)\n",
    "    for i in range(len(titles)):\n",
    "        index = len(jobs) + 1\n",
    "        post = {\"job_title\":titles[i],\n",
    "                'company_name':companies[i],\n",
    "                'location':locations[i],\n",
    "                'summary':summary[i]}\n",
    "        jobs.loc[index] = post"
   ]
  },
  {
   "cell_type": "code",
   "execution_count": 110,
   "metadata": {},
   "outputs": [
    {
     "data": {
      "text/plain": [
       "(178, 4)"
      ]
     },
     "execution_count": 110,
     "metadata": {},
     "output_type": "execute_result"
    }
   ],
   "source": [
    "jobs.shape"
   ]
  },
  {
   "cell_type": "code",
   "execution_count": 192,
   "metadata": {},
   "outputs": [
    {
     "data": {
      "text/html": [
       "<div>\n",
       "<style scoped>\n",
       "    .dataframe tbody tr th:only-of-type {\n",
       "        vertical-align: middle;\n",
       "    }\n",
       "\n",
       "    .dataframe tbody tr th {\n",
       "        vertical-align: top;\n",
       "    }\n",
       "\n",
       "    .dataframe thead th {\n",
       "        text-align: right;\n",
       "    }\n",
       "</style>\n",
       "<table border=\"1\" class=\"dataframe\">\n",
       "  <thead>\n",
       "    <tr style=\"text-align: right;\">\n",
       "      <th></th>\n",
       "      <th>job_title</th>\n",
       "      <th>company_name</th>\n",
       "      <th>location</th>\n",
       "      <th>summary</th>\n",
       "      <th>summary_tok</th>\n",
       "    </tr>\n",
       "  </thead>\n",
       "  <tbody>\n",
       "    <tr>\n",
       "      <th>1</th>\n",
       "      <td>Data Scientist</td>\n",
       "      <td>Indeed Prime</td>\n",
       "      <td>Richmond, VA</td>\n",
       "      <td>Get matched – Companies apply to you with oppo...</td>\n",
       "      <td>[get, matched, companies, apply, to, you, with...</td>\n",
       "    </tr>\n",
       "    <tr>\n",
       "      <th>2</th>\n",
       "      <td>Data Scientist</td>\n",
       "      <td>Smithfield Foods</td>\n",
       "      <td>Smithfield, VA 23430</td>\n",
       "      <td>The ideal candidate is adept at preparing larg...</td>\n",
       "      <td>[the, ideal, candidate, is, adept, at, prepari...</td>\n",
       "    </tr>\n",
       "  </tbody>\n",
       "</table>\n",
       "</div>"
      ],
      "text/plain": [
       "        job_title      company_name              location  \\\n",
       "1  Data Scientist      Indeed Prime          Richmond, VA   \n",
       "2  Data Scientist  Smithfield Foods  Smithfield, VA 23430   \n",
       "\n",
       "                                             summary  \\\n",
       "1  Get matched – Companies apply to you with oppo...   \n",
       "2  The ideal candidate is adept at preparing larg...   \n",
       "\n",
       "                                         summary_tok  \n",
       "1  [get, matched, companies, apply, to, you, with...  \n",
       "2  [the, ideal, candidate, is, adept, at, prepari...  "
      ]
     },
     "execution_count": 192,
     "metadata": {},
     "output_type": "execute_result"
    }
   ],
   "source": [
    "jobs.head(2)"
   ]
  },
  {
   "cell_type": "markdown",
   "metadata": {
    "colab_type": "text",
    "id": "5C4xFZNtX1m2"
   },
   "source": [
    "## 2) Use Spacy to tokenize / clean the listings "
   ]
  },
  {
   "cell_type": "code",
   "execution_count": 114,
   "metadata": {
    "colab": {},
    "colab_type": "code",
    "id": "dhUHuMr-X-II"
   },
   "outputs": [],
   "source": [
    "import spacy\n",
    "from spacy.tokenizer import Tokenizer"
   ]
  },
  {
   "cell_type": "code",
   "execution_count": 115,
   "metadata": {},
   "outputs": [],
   "source": [
    "nlp = spacy.load(\"en_core_web_md\")"
   ]
  },
  {
   "cell_type": "code",
   "execution_count": 116,
   "metadata": {},
   "outputs": [],
   "source": [
    "tokenizer = Tokenizer(nlp.vocab)"
   ]
  },
  {
   "cell_type": "code",
   "execution_count": 190,
   "metadata": {},
   "outputs": [],
   "source": [
    "def tokenize_pdseries(series):\n",
    "    tokens = []\n",
    "\n",
    "    for doc in tokenizer.pipe(series, batch_size=500):\n",
    "        doc_tok = []\n",
    "        for tok in doc:\n",
    "            if (tok.is_stop == False) and (tok.is_punct == False):\n",
    "                doc_tok.append(tok.text.lower())\n",
    "        tokens.append(doc_tok)\n",
    "    \n",
    "    for i in range(len(tokens)):\n",
    "        tokens[i][-1] = tokens[i][-1].strip(\".\")\n",
    "    return(tokens)"
   ]
  },
  {
   "cell_type": "code",
   "execution_count": 191,
   "metadata": {},
   "outputs": [],
   "source": [
    "jobs['summary_tok'] = tokenize_pdseries(jobs['summary'])"
   ]
  },
  {
   "cell_type": "markdown",
   "metadata": {
    "colab_type": "text",
    "id": "-lgCZNL_YycP"
   },
   "source": [
    "# 3) Use Scikit-Learn's CountVectorizer to get word counts for each listing."
   ]
  },
  {
   "cell_type": "code",
   "execution_count": 196,
   "metadata": {
    "colab": {},
    "colab_type": "code",
    "id": "X2PZ8Pj_YxcF"
   },
   "outputs": [
    {
     "name": "stdout",
     "output_type": "stream",
     "text": [
      "{'matched': 235, 'companies': 76, 'apply': 22, 'opportunities': 278, 'reflect': 337, 'role': 351, 'location': 224, 'salary': 353, 'specifications': 383, 'prime': 308, 'works': 450, 'ideal': 178, 'candidate': 55, 'adept': 2, 'preparing': 303, 'large': 216, 'data': 93, 'sets': 367, 'applying': 23, 'statistical': 389, 'algorithmic': 6, 'mining': 253, 'visualization': 443, 'techniques': 408, 'hidden': 174, 'insights': 195, 'scientist': 359, 'key': 211, 'person': 289, 'vbg': 437, 'products': 314, 'competitive': 79, 'positioning': 297, 'needs': 266, 'trying': 425, 'different': 120, 'predictive': 301, 'modeling': 255, 'approaches': 24, 'identify': 180, 'best': 43, 'fit': 154, 'given': 169, 'set': 366, 'business': 53, 'understanding': 429, 'available': 35, 'project': 320, 'timeline': 417, 'creating': 87, 'analytic': 14, 'models': 256, 'improve': 184, 'metrics': 249, 'analyzing': 18, 'customer': 90, 'behavior': 41, 'trends': 424, 'delivering': 102, 'stakeholders': 386, 'executives': 143, 'platform': 293, 'collects': 71, 'deep': 99, 'visibility': 442, 'multiple': 262, 'vantages': 435, 'points': 295, 'combines': 72, 'high': 175, 'quality': 330, 'threat': 415, 'intelligence': 202, 'operate': 277, 'subject': 396, 'matter': 241, 'specialist': 380, 'industry': 188, 'privacy': 309, 'cyber': 91, 'risk': 350, 'practices': 299, 'know': 212, 'background': 38, 'organization': 281, 'central': 60, 'analytics': 16, 'team': 404, 'enable': 135, 'driven': 127, 'decision': 98, 'making': 230, 'amazon': 9, 'web': 446, 'services': 365, 'center': 58, 'infrastructure': 191, 'taa': 400, 'telemetry': 411, 'automation': 34, 'planning': 292, 'group': 170, 'verizon': 439, 'network': 267, 'technology': 410, 'looking': 227, 'self': 363, 'motivated': 259, 'innovative': 194, 'responsible': 347, 'discovering': 123, 'overall': 282, 'information': 190, 'profound': 318, 'amounts': 11, 'strong': 394, 'skills': 369, 'software': 371, 'prototyping': 322, 'engineering': 136, 'expertise': 147, 'applicable': 21, 'programming': 319, 'languages': 215, 'python': 328, 'spark': 378, 'scala': 355, 'various': 436, 'open': 276, 'health': 173, 'insurance': 196, 'familiarity': 150, 'analysis': 12, 'ability': 0, 'break': 47, 'understand': 428, 'complex': 80, 'problems': 311, 'define': 100, 'solution': 373, 'employ': 133, 'big': 46, 'scale': 356, 'machine': 228, 'learning': 220, 'optimization': 279, 'algorithms': 7, 'massive': 233, 'flows': 156, 'online': 275, 'leveraging': 222, 'including': 187, 'limited': 223, 'nlp': 270, 'solutions': 374, 'sql': 385, 'nosql': 272, 'databases': 95, 'warehousing': 445, 'specifically': 382, 'company': 77, 'senior': 364, 'years': 453, 'working': 449, 'experience': 144, 'tools': 418, 'join': 209, 'database': 94, 'xml': 452, 'proficiency': 315, 'devising': 119, 'ensure': 137, 'integrity': 200, 'proven': 323, 'methodologies': 247, 'reconciliation': 336, 'integration': 199, 'audits': 33, 'projects': 321, 'include': 185, 'microservices': 250, 'detecting': 115, 'patterns': 284, 'anomalies': 19, 'interpretation': 204, 'integrating': 198, 'external': 148, 'sources': 377, 'apis': 20, 'discover': 122, 'interesting': 203, 'building': 52, 'development': 118, 'testing': 413, 'validation': 433, 'position': 296, 'provides': 324, 'departments': 109, 'fundamentals': 163, 'educational': 131, 'science': 357, 'equivalent': 139, 'mastery': 234, 'scientists': 360, 'wide': 447, 'range': 333, 'technical': 407, 'competencies': 78, 'statistics': 390, 'coding': 67, 'maxar': 243, 'technologies': 409, 'seeking': 362, 'perform': 287, 'highly': 176, 'dynamic': 129, 'multi': 261, 'function': 161, 'intel': 201, 'analysts': 13, 'geospatial': 166, 'imagery': 181, 'leading': 218, 'medical': 244, 'society': 370, 'representing': 341, 'doctors': 126, 'care': 57, 'people': 285, 'cancer': 54, 'american': 10, 'clinical': 63, 'oncology': 274, 'asco': 28, 'committed': 74, 'conquering': 84, 'modern': 257, 'bi': 45, 'sas': 354, 'primary': 307, 'responsibilities': 346, 'centered': 59, 'examination': 141, 'presentation': 305, 'disseminate': 124, 'broad': 49, 'array': 27, 'dealing': 97, 'profiles': 317, 'networks': 268, 'facilities': 149, 'resources': 345, 'job': 208, 'description': 111, 'excellent': 142, 'random': 332, 'forests': 159, 'logistic': 225, 'regression': 338, 'nn': 271, 'naïve': 265, 'bayes': 40, 'knowledge': 213, 'quantitative': 331, 'expert': 146, 'centric': 61, 'providing': 325, 'enterprise': 138, 'strategy': 393, 'access': 1, 'manage': 231, 'transfer': 423, 'integrate': 197, 'analyze': 17, 'datasets': 96, 'especially': 140, 'using': 432, 'work': 448, 'world': 451, 'cloud': 65, 'computing': 82, 'mathematical': 237, 'matlab': 240, 'general': 165, 'purpose': 327, 'java': 206, 'perl': 288, 'special': 379, 'specific': 381, 'capabilities': 56, 'spectrum': 384, 'training': 421, 'tradecraft': 419, 'distribution': 125, 'publicly': 326, 'recommend': 335, 'suppliers': 397, 'vendors': 438, 'assisting': 31, 'analytical': 15, 'research': 343, 'meet': 245, 'departmental': 108, 'standards': 388, 'new': 269, 'advanced': 3, 'based': 39, 'implement': 183, 'design': 113, 'code': 66, 'train': 420, 'test': 412, 'deploy': 110, 'iterate': 205, 'systems': 399, 'bring': 48, 'unique': 430, 'qualities': 329, 'traits': 422, 'stand': 387, 'make': 229, 'impact': 182, 'look': 226, 'tech': 406, 'talent': 403, 'considerable': 85, 'solving': 376, 'experimentation': 145, 'build': 51, 'cross': 89, 'functionally': 162, 'teams': 405, 'develop': 116, 'growth': 171, 'retention': 349, 'strategies': 392, 'better': 44, 'git': 168, 'svn': 398, 'mercurial': 246, 'collaborative': 69, 'bachelor': 36, 'degree': 101, 'field': 152, 'version': 440, 'control': 86, 'bachelors': 37, 'related': 339, 'proficient': 316, 'postgres': 298, 'time': 416, 'direct': 121, 'hire': 177, 'amazing': 8, 'benefits': 42, 'javascript': 207, 'following': 158, 'receive': 334, 'bs': 50, 'ms': 260, 'computer': 81, 'mathematics': 239, 'fields': 153, 'relevant': 340, 'demonstrated': 106, 'use': 431, 'solve': 375, 'tableau': 401, 'present': 304, 'matters': 242, 'learn': 219, 'deloitte': 103, 'commercial': 73, 'platforms': 294, 'order': 280, 'predicting': 300, 'future': 164, 'characteristics': 62, 'perfectionism': 286, 'attention': 32, 'required': 342, 'searching': 361, 'flaws': 155, 'value': 434, 'duties': 128, 'typically': 427, 'focused': 157, 'collection': 70, 'efforts': 132, 'assist': 30, 'descriptive': 112, 'mathematica': 236, 'studies': 395, 'cohorts': 68, 'appropriate': 25, 'solid': 372, 'agile': 5, 'demonstrable': 105, 'reston': 348, 'office': 273, 'employs': 134, 'mathematicians': 238, 'physicists': 290, 'routinely': 352, 'stochastic': 391, 'processes': 312, 'inference': 189, 'd3': 92, 'js': 210, 'gephi': 167, 'preferred': 302, 'methods': 248, 'architecture': 26, 'munging': 263, 'feature': 151, 'mid': 251, 'level': 221, 'includes': 186, 'modification': 258, 'scientific': 358, 'vital': 444, 'closely': 64, 'developers': 117, 'demographic': 104, 'tv': 426, 'viewing': 441, 'advertising': 4, 'passion': 283, 'problem': 310, 'researching': 344, 'innovations': 193, 'physics': 291, 'economics': 130, 'ideas': 179, 'previous': 306, 'assessment': 29, 'foundational': 160, 'concepts': 83, 'ml': 254, 'hadoop': 172, 'communication': 75, 'natural': 264, 'language': 214, 'processing': 313, 'simulation': 368, 'minimum': 252, 'desired': 114, 'marketing': 232, 'demonstrating': 107, 'thought': 414, 'leadership': 217, 'initiative': 192, 'taking': 402, 'creativity': 88}\n"
     ]
    }
   ],
   "source": [
    "from sklearn.feature_extraction.text import CountVectorizer\n",
    "cvect = CountVectorizer(stop_words='english')\n",
    "\n",
    "cvect.fit(jobs['summary'].values)\n",
    "print(cvect.vocabulary_)\n",
    "dtm_count = cvect.transform(jobs['summary'])"
   ]
  },
  {
   "cell_type": "code",
   "execution_count": 197,
   "metadata": {},
   "outputs": [
    {
     "data": {
      "text/plain": [
       "matrix([[0, 0, 0, ..., 0, 0, 0],\n",
       "        [0, 0, 1, ..., 0, 0, 0],\n",
       "        [0, 0, 0, ..., 0, 0, 0],\n",
       "        ...,\n",
       "        [1, 0, 0, ..., 0, 1, 0],\n",
       "        [1, 0, 0, ..., 0, 1, 0],\n",
       "        [0, 0, 0, ..., 0, 0, 0]])"
      ]
     },
     "execution_count": 197,
     "metadata": {},
     "output_type": "execute_result"
    }
   ],
   "source": [
    "dtm_count.todense()"
   ]
  },
  {
   "cell_type": "code",
   "execution_count": 198,
   "metadata": {},
   "outputs": [
    {
     "data": {
      "text/plain": [
       "(178, 454)"
      ]
     },
     "execution_count": 198,
     "metadata": {},
     "output_type": "execute_result"
    }
   ],
   "source": [
    "dtm_df = pd.DataFrame(dtm_count.todense(), columns = cvect.get_feature_names())\n",
    "dtm_df.shape"
   ]
  },
  {
   "cell_type": "code",
   "execution_count": 199,
   "metadata": {},
   "outputs": [
    {
     "data": {
      "text/html": [
       "<div>\n",
       "<style scoped>\n",
       "    .dataframe tbody tr th:only-of-type {\n",
       "        vertical-align: middle;\n",
       "    }\n",
       "\n",
       "    .dataframe tbody tr th {\n",
       "        vertical-align: top;\n",
       "    }\n",
       "\n",
       "    .dataframe thead th {\n",
       "        text-align: right;\n",
       "    }\n",
       "</style>\n",
       "<table border=\"1\" class=\"dataframe\">\n",
       "  <thead>\n",
       "    <tr style=\"text-align: right;\">\n",
       "      <th></th>\n",
       "      <th>ability</th>\n",
       "      <th>access</th>\n",
       "      <th>adept</th>\n",
       "      <th>advanced</th>\n",
       "      <th>advertising</th>\n",
       "      <th>agile</th>\n",
       "      <th>algorithmic</th>\n",
       "      <th>algorithms</th>\n",
       "      <th>amazing</th>\n",
       "      <th>amazon</th>\n",
       "      <th>...</th>\n",
       "      <th>vital</th>\n",
       "      <th>warehousing</th>\n",
       "      <th>web</th>\n",
       "      <th>wide</th>\n",
       "      <th>work</th>\n",
       "      <th>working</th>\n",
       "      <th>works</th>\n",
       "      <th>world</th>\n",
       "      <th>xml</th>\n",
       "      <th>years</th>\n",
       "    </tr>\n",
       "  </thead>\n",
       "  <tbody>\n",
       "    <tr>\n",
       "      <th>0</th>\n",
       "      <td>0</td>\n",
       "      <td>0</td>\n",
       "      <td>0</td>\n",
       "      <td>0</td>\n",
       "      <td>0</td>\n",
       "      <td>0</td>\n",
       "      <td>0</td>\n",
       "      <td>0</td>\n",
       "      <td>0</td>\n",
       "      <td>0</td>\n",
       "      <td>...</td>\n",
       "      <td>0</td>\n",
       "      <td>0</td>\n",
       "      <td>0</td>\n",
       "      <td>0</td>\n",
       "      <td>0</td>\n",
       "      <td>0</td>\n",
       "      <td>1</td>\n",
       "      <td>0</td>\n",
       "      <td>0</td>\n",
       "      <td>0</td>\n",
       "    </tr>\n",
       "    <tr>\n",
       "      <th>1</th>\n",
       "      <td>0</td>\n",
       "      <td>0</td>\n",
       "      <td>1</td>\n",
       "      <td>0</td>\n",
       "      <td>0</td>\n",
       "      <td>0</td>\n",
       "      <td>1</td>\n",
       "      <td>0</td>\n",
       "      <td>0</td>\n",
       "      <td>0</td>\n",
       "      <td>...</td>\n",
       "      <td>0</td>\n",
       "      <td>0</td>\n",
       "      <td>0</td>\n",
       "      <td>0</td>\n",
       "      <td>0</td>\n",
       "      <td>0</td>\n",
       "      <td>0</td>\n",
       "      <td>0</td>\n",
       "      <td>0</td>\n",
       "      <td>0</td>\n",
       "    </tr>\n",
       "    <tr>\n",
       "      <th>2</th>\n",
       "      <td>0</td>\n",
       "      <td>0</td>\n",
       "      <td>0</td>\n",
       "      <td>0</td>\n",
       "      <td>0</td>\n",
       "      <td>0</td>\n",
       "      <td>0</td>\n",
       "      <td>0</td>\n",
       "      <td>0</td>\n",
       "      <td>0</td>\n",
       "      <td>...</td>\n",
       "      <td>0</td>\n",
       "      <td>0</td>\n",
       "      <td>0</td>\n",
       "      <td>0</td>\n",
       "      <td>0</td>\n",
       "      <td>0</td>\n",
       "      <td>0</td>\n",
       "      <td>0</td>\n",
       "      <td>0</td>\n",
       "      <td>0</td>\n",
       "    </tr>\n",
       "    <tr>\n",
       "      <th>3</th>\n",
       "      <td>0</td>\n",
       "      <td>0</td>\n",
       "      <td>0</td>\n",
       "      <td>0</td>\n",
       "      <td>0</td>\n",
       "      <td>0</td>\n",
       "      <td>0</td>\n",
       "      <td>0</td>\n",
       "      <td>0</td>\n",
       "      <td>0</td>\n",
       "      <td>...</td>\n",
       "      <td>0</td>\n",
       "      <td>0</td>\n",
       "      <td>0</td>\n",
       "      <td>0</td>\n",
       "      <td>0</td>\n",
       "      <td>0</td>\n",
       "      <td>0</td>\n",
       "      <td>0</td>\n",
       "      <td>0</td>\n",
       "      <td>0</td>\n",
       "    </tr>\n",
       "    <tr>\n",
       "      <th>4</th>\n",
       "      <td>0</td>\n",
       "      <td>0</td>\n",
       "      <td>0</td>\n",
       "      <td>0</td>\n",
       "      <td>0</td>\n",
       "      <td>0</td>\n",
       "      <td>0</td>\n",
       "      <td>0</td>\n",
       "      <td>0</td>\n",
       "      <td>0</td>\n",
       "      <td>...</td>\n",
       "      <td>0</td>\n",
       "      <td>0</td>\n",
       "      <td>0</td>\n",
       "      <td>0</td>\n",
       "      <td>0</td>\n",
       "      <td>0</td>\n",
       "      <td>0</td>\n",
       "      <td>0</td>\n",
       "      <td>0</td>\n",
       "      <td>0</td>\n",
       "    </tr>\n",
       "  </tbody>\n",
       "</table>\n",
       "<p>5 rows × 454 columns</p>\n",
       "</div>"
      ],
      "text/plain": [
       "   ability  access  adept  advanced  advertising  agile  algorithmic  \\\n",
       "0        0       0      0         0            0      0            0   \n",
       "1        0       0      1         0            0      0            1   \n",
       "2        0       0      0         0            0      0            0   \n",
       "3        0       0      0         0            0      0            0   \n",
       "4        0       0      0         0            0      0            0   \n",
       "\n",
       "   algorithms  amazing  amazon  ...  vital  warehousing  web  wide  work  \\\n",
       "0           0        0       0  ...      0            0    0     0     0   \n",
       "1           0        0       0  ...      0            0    0     0     0   \n",
       "2           0        0       0  ...      0            0    0     0     0   \n",
       "3           0        0       0  ...      0            0    0     0     0   \n",
       "4           0        0       0  ...      0            0    0     0     0   \n",
       "\n",
       "   working  works  world  xml  years  \n",
       "0        0      1      0    0      0  \n",
       "1        0      0      0    0      0  \n",
       "2        0      0      0    0      0  \n",
       "3        0      0      0    0      0  \n",
       "4        0      0      0    0      0  \n",
       "\n",
       "[5 rows x 454 columns]"
      ]
     },
     "execution_count": 199,
     "metadata": {},
     "output_type": "execute_result"
    }
   ],
   "source": [
    "dtm_df.head()"
   ]
  },
  {
   "cell_type": "markdown",
   "metadata": {
    "colab_type": "text",
    "id": "Zo1iH_UeY7_n"
   },
   "source": [
    "# 4) Visualize the most common word counts"
   ]
  },
  {
   "cell_type": "code",
   "execution_count": 270,
   "metadata": {
    "colab": {},
    "colab_type": "code",
    "id": "M5LB00uyZKV5"
   },
   "outputs": [],
   "source": [
    "import squarify\n",
    "import matplotlib.pyplot as plt"
   ]
  },
  {
   "cell_type": "code",
   "execution_count": 218,
   "metadata": {},
   "outputs": [
    {
     "name": "stdout",
     "output_type": "stream",
     "text": [
      "i analysts <built-in method index of str object at 0x7fa4a1f4f8f0>\n",
      "i analysts <built-in method index of str object at 0x7fa4a1f4f8f0>\n",
      "i analysts <built-in method index of str object at 0x7fa4a1f4f8f0>\n",
      "i customer <built-in method index of str object at 0x7fa4a1fbd930>\n",
      "i data <built-in method index of str object at 0x7fa4a20a02d0>\n",
      "i data <built-in method index of str object at 0x7fa4a20a02d0>\n",
      "i data <built-in method index of str object at 0x7fa4a20a02d0>\n",
      "i data <built-in method index of str object at 0x7fa4a20a02d0>\n",
      "i data <built-in method index of str object at 0x7fa4a20a02d0>\n",
      "i data <built-in method index of str object at 0x7fa4a20a02d0>\n",
      "i data <built-in method index of str object at 0x7fa4a20a02d0>\n",
      "i data <built-in method index of str object at 0x7fa4a20a02d0>\n",
      "i data <built-in method index of str object at 0x7fa4a20a02d0>\n",
      "i data <built-in method index of str object at 0x7fa4a20a02d0>\n",
      "i data <built-in method index of str object at 0x7fa4a20a02d0>\n",
      "i data <built-in method index of str object at 0x7fa4a20a02d0>\n",
      "i data <built-in method index of str object at 0x7fa4a20a02d0>\n",
      "i data <built-in method index of str object at 0x7fa4a20a02d0>\n",
      "i data <built-in method index of str object at 0x7fa4a20a02d0>\n",
      "i data <built-in method index of str object at 0x7fa4a20a02d0>\n",
      "i data <built-in method index of str object at 0x7fa4a20a02d0>\n",
      "i data <built-in method index of str object at 0x7fa4a20a02d0>\n",
      "i data <built-in method index of str object at 0x7fa4a20a02d0>\n",
      "i data <built-in method index of str object at 0x7fa4a20a02d0>\n",
      "i data <built-in method index of str object at 0x7fa4a20a02d0>\n",
      "i data <built-in method index of str object at 0x7fa4a20a02d0>\n",
      "i data <built-in method index of str object at 0x7fa4a20a02d0>\n",
      "i data <built-in method index of str object at 0x7fa4a20a02d0>\n",
      "i data <built-in method index of str object at 0x7fa4a20a02d0>\n",
      "i data <built-in method index of str object at 0x7fa4a20a02d0>\n",
      "i data <built-in method index of str object at 0x7fa4a20a02d0>\n",
      "i data <built-in method index of str object at 0x7fa4a20a02d0>\n",
      "i data <built-in method index of str object at 0x7fa4a20a02d0>\n",
      "i data <built-in method index of str object at 0x7fa4a20a02d0>\n",
      "i data <built-in method index of str object at 0x7fa4a20a02d0>\n",
      "i data <built-in method index of str object at 0x7fa4a20a02d0>\n",
      "i data <built-in method index of str object at 0x7fa4a20a02d0>\n",
      "i data <built-in method index of str object at 0x7fa4a20a02d0>\n",
      "i data <built-in method index of str object at 0x7fa4a20a02d0>\n",
      "i data <built-in method index of str object at 0x7fa4a20a02d0>\n",
      "i data <built-in method index of str object at 0x7fa4a20a02d0>\n",
      "i data <built-in method index of str object at 0x7fa4a20a02d0>\n",
      "i data <built-in method index of str object at 0x7fa4a20a02d0>\n",
      "i data <built-in method index of str object at 0x7fa4a20a02d0>\n",
      "i data <built-in method index of str object at 0x7fa4a20a02d0>\n",
      "i data <built-in method index of str object at 0x7fa4a20a02d0>\n",
      "i data <built-in method index of str object at 0x7fa4a20a02d0>\n",
      "i data <built-in method index of str object at 0x7fa4a20a02d0>\n",
      "i data <built-in method index of str object at 0x7fa4a20a02d0>\n",
      "i data <built-in method index of str object at 0x7fa4a20a02d0>\n",
      "i data <built-in method index of str object at 0x7fa4a20a02d0>\n",
      "i data <built-in method index of str object at 0x7fa4a20a02d0>\n",
      "i data <built-in method index of str object at 0x7fa4a20a02d0>\n",
      "i data <built-in method index of str object at 0x7fa4a20a02d0>\n",
      "i data <built-in method index of str object at 0x7fa4a20a02d0>\n",
      "i data <built-in method index of str object at 0x7fa4a20a02d0>\n",
      "i data <built-in method index of str object at 0x7fa4a20a02d0>\n",
      "i data <built-in method index of str object at 0x7fa4a20a02d0>\n",
      "i data <built-in method index of str object at 0x7fa4a20a02d0>\n",
      "i data <built-in method index of str object at 0x7fa4a20a02d0>\n",
      "i data <built-in method index of str object at 0x7fa4a20a02d0>\n",
      "i data <built-in method index of str object at 0x7fa4a20a02d0>\n",
      "i data <built-in method index of str object at 0x7fa4a20a02d0>\n",
      "i data <built-in method index of str object at 0x7fa4a20a02d0>\n",
      "i data <built-in method index of str object at 0x7fa4a20a02d0>\n",
      "i data <built-in method index of str object at 0x7fa4a20a02d0>\n",
      "i data <built-in method index of str object at 0x7fa4a20a02d0>\n",
      "i experience <built-in method index of str object at 0x7fa4a1fc9630>\n",
      "i experience <built-in method index of str object at 0x7fa4a1fc9630>\n",
      "i impact <built-in method index of str object at 0x7fa4a20a34c8>\n",
      "i knowledge <built-in method index of str object at 0x7fa4a1f54170>\n",
      "i knowledge <built-in method index of str object at 0x7fa4a1f54170>\n",
      "i knowledge <built-in method index of str object at 0x7fa4a1f54170>\n",
      "i languages <built-in method index of str object at 0x7fa4a1fc4df0>\n",
      "i languages <built-in method index of str object at 0x7fa4a1fc4df0>\n",
      "i languages <built-in method index of str object at 0x7fa4a1fc4df0>\n",
      "i learning <built-in method index of str object at 0x7fa4a1fc91b0>\n",
      "i learning <built-in method index of str object at 0x7fa4a1fc91b0>\n",
      "i learning <built-in method index of str object at 0x7fa4a1fc91b0>\n",
      "i learning <built-in method index of str object at 0x7fa4a1fc91b0>\n",
      "i learning <built-in method index of str object at 0x7fa4a1fc91b0>\n",
      "i learning <built-in method index of str object at 0x7fa4a1fc91b0>\n",
      "i learning <built-in method index of str object at 0x7fa4a1fc91b0>\n",
      "i learning <built-in method index of str object at 0x7fa4a1fc91b0>\n",
      "i learning <built-in method index of str object at 0x7fa4a1fc91b0>\n",
      "i learning <built-in method index of str object at 0x7fa4a1fc91b0>\n",
      "i learning <built-in method index of str object at 0x7fa4a1fc91b0>\n",
      "i learning <built-in method index of str object at 0x7fa4a1fc91b0>\n",
      "i learning <built-in method index of str object at 0x7fa4a1fc91b0>\n",
      "i learning <built-in method index of str object at 0x7fa4a1fc91b0>\n",
      "i machine <built-in method index of str object at 0x7fa4a2021148>\n",
      "i machine <built-in method index of str object at 0x7fa4a2021148>\n",
      "i machine <built-in method index of str object at 0x7fa4a2021148>\n",
      "i machine <built-in method index of str object at 0x7fa4a2021148>\n",
      "i machine <built-in method index of str object at 0x7fa4a2021148>\n",
      "i mining <built-in method index of str object at 0x7fa4a20a0420>\n",
      "i modeling <built-in method index of str object at 0x7fa4a1fbd370>\n",
      "i planning <built-in method index of str object at 0x7fa4a1fc4730>\n",
      "i planning <built-in method index of str object at 0x7fa4a1fc4730>\n",
      "i projects <built-in method index of str object at 0x7fa4a1fc99f0>\n",
      "i projects <built-in method index of str object at 0x7fa4a1fc99f0>\n",
      "i projects <built-in method index of str object at 0x7fa4a1fc99f0>\n",
      "i purpose <built-in method index of str object at 0x7fa4a2021f48>\n",
      "i required <built-in method index of str object at 0x7fa4a1f5bd70>\n",
      "i science <built-in method index of str object at 0x7fa4a20217d8>\n",
      "i science <built-in method index of str object at 0x7fa4a20217d8>\n",
      "i scientist <built-in method index of str object at 0x7fa4a1fb84b0>\n",
      "i society <built-in method index of str object at 0x7fa4a20218b8>\n",
      "i society <built-in method index of str object at 0x7fa4a20218b8>\n",
      "i tools <built-in method index of str object at 0x7fa4a2021618>\n",
      "i visualization <built-in method index of str object at 0x7fa4a1fb8e70>\n",
      "i visualization <built-in method index of str object at 0x7fa4a1fb8e70>\n",
      "i visualization <built-in method index of str object at 0x7fa4a1fb8e70>\n",
      "i visualization <built-in method index of str object at 0x7fa4a1fb8e70>\n",
      "i visualization <built-in method index of str object at 0x7fa4a1fb8e70>\n",
      "i visualization <built-in method index of str object at 0x7fa4a1fb8e70>\n",
      "i visualization <built-in method index of str object at 0x7fa4a1fb8e70>\n",
      "i visualization <built-in method index of str object at 0x7fa4a1fb8e70>\n",
      "i visualization <built-in method index of str object at 0x7fa4a1fb8e70>\n"
     ]
    }
   ],
   "source": [
    "for col in dtm_df.columns:\n",
    "    i = 1\n",
    "    for x in dtm_df[col]:\n",
    "        if x > 1:\n",
    "            print(\"i\", col, col.index)\n",
    "            i += 1"
   ]
  },
  {
   "cell_type": "code",
   "execution_count": 219,
   "metadata": {},
   "outputs": [
    {
     "name": "stdout",
     "output_type": "stream",
     "text": [
      "246\n",
      "137\n"
     ]
    }
   ],
   "source": [
    "print(dtm_df['data'].sum())\n",
    "print(sum(x > 0 for x in dtm_df['data']))"
   ]
  },
  {
   "cell_type": "code",
   "execution_count": 302,
   "metadata": {},
   "outputs": [],
   "source": [
    "def get_counts(dtm):\n",
    "    counts = pd.DataFrame(columns=['word', 'appears_in', \n",
    "                                   'count', 'rank', \n",
    "                                   'pct_total', 'appears_in_pct'])\n",
    "    c = []\n",
    "    for col in dtm.columns:\n",
    "        total = dtm[col].sum()\n",
    "        c.append([col, total])\n",
    "    \n",
    "    c = sorted(c, key=lambda x: x[1], reverse=True)\n",
    "        \n",
    "    for i in range(len(c)):\n",
    "        c[i].append(i + 1)\n",
    "        \n",
    "    rank = dict(map(lambda x: x[0::2], c))\n",
    "\n",
    "    total = sum(dtm[col].sum() for col in dtm.columns)\n",
    "    \n",
    "    for i in range(len(dtm.columns)):\n",
    "        col = dtm.columns[i]\n",
    "        col_total = dtm[col].sum()\n",
    "        app_total = sum(x > 0 for x in dtm[col])\n",
    "        vocab_info = {\n",
    "            'word':col,\n",
    "            'appears_in': app_total,\n",
    "            'count': col_total,\n",
    "            'rank': rank[col],\n",
    "            'pct_total': col_total / total,\n",
    "            'appears_in_pct': app_total / len(dtm)\n",
    "        }\n",
    "        counts.loc[i] = vocab_info\n",
    "    counts['cul_pct_total'] = counts['pct_total'].cumsum()\n",
    "    return(counts)\n",
    "        "
   ]
  },
  {
   "cell_type": "code",
   "execution_count": 303,
   "metadata": {},
   "outputs": [
    {
     "data": {
      "image/png": "[encoded data removed]",
      "text/plain": [
       "<Figure size 432x288 with 1 Axes>"
      ]
     },
     "metadata": {
      "needs_background": "light"
     },
     "output_type": "display_data"
    }
   ],
   "source": [
    "wcounts = get_counts(dtm_df)\n",
    "wc_top40 = wcounts.loc[wcounts['rank'] <= 20]\n",
    "\n",
    "squarify.plot(sizes=wc_top40['pct_total'], label=wc_top40['word'])\n",
    "plt.axis('off')\n",
    "plt.show()"
   ]
  },
  {
   "cell_type": "markdown",
   "metadata": {
    "colab_type": "text",
    "id": "bwFsTqrVZMYi"
   },
   "source": [
    " # 5) Use Scikit-Learn's tfidfVectorizer to get a TF-IDF feature matrix"
   ]
  },
  {
   "cell_type": "code",
   "execution_count": 304,
   "metadata": {
    "colab": {},
    "colab_type": "code",
    "id": "-gx2gZCbl5Np"
   },
   "outputs": [
    {
     "data": {
      "text/html": [
       "<div>\n",
       "<style scoped>\n",
       "    .dataframe tbody tr th:only-of-type {\n",
       "        vertical-align: middle;\n",
       "    }\n",
       "\n",
       "    .dataframe tbody tr th {\n",
       "        vertical-align: top;\n",
       "    }\n",
       "\n",
       "    .dataframe thead th {\n",
       "        text-align: right;\n",
       "    }\n",
       "</style>\n",
       "<table border=\"1\" class=\"dataframe\">\n",
       "  <thead>\n",
       "    <tr style=\"text-align: right;\">\n",
       "      <th></th>\n",
       "      <th>ability</th>\n",
       "      <th>access</th>\n",
       "      <th>adept</th>\n",
       "      <th>advanced</th>\n",
       "      <th>advertising</th>\n",
       "      <th>agile</th>\n",
       "      <th>algorithmic</th>\n",
       "      <th>algorithms</th>\n",
       "      <th>amazing</th>\n",
       "      <th>amazon</th>\n",
       "      <th>...</th>\n",
       "      <th>vital</th>\n",
       "      <th>warehousing</th>\n",
       "      <th>web</th>\n",
       "      <th>wide</th>\n",
       "      <th>work</th>\n",
       "      <th>working</th>\n",
       "      <th>works</th>\n",
       "      <th>world</th>\n",
       "      <th>xml</th>\n",
       "      <th>years</th>\n",
       "    </tr>\n",
       "  </thead>\n",
       "  <tbody>\n",
       "    <tr>\n",
       "      <th>0</th>\n",
       "      <td>0.0</td>\n",
       "      <td>0.0</td>\n",
       "      <td>0.00000</td>\n",
       "      <td>0.0</td>\n",
       "      <td>0.0</td>\n",
       "      <td>0.0</td>\n",
       "      <td>0.00000</td>\n",
       "      <td>0.0</td>\n",
       "      <td>0.0</td>\n",
       "      <td>0.0</td>\n",
       "      <td>...</td>\n",
       "      <td>0.0</td>\n",
       "      <td>0.0</td>\n",
       "      <td>0.0</td>\n",
       "      <td>0.0</td>\n",
       "      <td>0.0</td>\n",
       "      <td>0.0</td>\n",
       "      <td>0.304901</td>\n",
       "      <td>0.0</td>\n",
       "      <td>0.0</td>\n",
       "      <td>0.0</td>\n",
       "    </tr>\n",
       "    <tr>\n",
       "      <th>1</th>\n",
       "      <td>0.0</td>\n",
       "      <td>0.0</td>\n",
       "      <td>0.30224</td>\n",
       "      <td>0.0</td>\n",
       "      <td>0.0</td>\n",
       "      <td>0.0</td>\n",
       "      <td>0.30224</td>\n",
       "      <td>0.0</td>\n",
       "      <td>0.0</td>\n",
       "      <td>0.0</td>\n",
       "      <td>...</td>\n",
       "      <td>0.0</td>\n",
       "      <td>0.0</td>\n",
       "      <td>0.0</td>\n",
       "      <td>0.0</td>\n",
       "      <td>0.0</td>\n",
       "      <td>0.0</td>\n",
       "      <td>0.000000</td>\n",
       "      <td>0.0</td>\n",
       "      <td>0.0</td>\n",
       "      <td>0.0</td>\n",
       "    </tr>\n",
       "    <tr>\n",
       "      <th>2</th>\n",
       "      <td>0.0</td>\n",
       "      <td>0.0</td>\n",
       "      <td>0.00000</td>\n",
       "      <td>0.0</td>\n",
       "      <td>0.0</td>\n",
       "      <td>0.0</td>\n",
       "      <td>0.00000</td>\n",
       "      <td>0.0</td>\n",
       "      <td>0.0</td>\n",
       "      <td>0.0</td>\n",
       "      <td>...</td>\n",
       "      <td>0.0</td>\n",
       "      <td>0.0</td>\n",
       "      <td>0.0</td>\n",
       "      <td>0.0</td>\n",
       "      <td>0.0</td>\n",
       "      <td>0.0</td>\n",
       "      <td>0.000000</td>\n",
       "      <td>0.0</td>\n",
       "      <td>0.0</td>\n",
       "      <td>0.0</td>\n",
       "    </tr>\n",
       "    <tr>\n",
       "      <th>3</th>\n",
       "      <td>0.0</td>\n",
       "      <td>0.0</td>\n",
       "      <td>0.00000</td>\n",
       "      <td>0.0</td>\n",
       "      <td>0.0</td>\n",
       "      <td>0.0</td>\n",
       "      <td>0.00000</td>\n",
       "      <td>0.0</td>\n",
       "      <td>0.0</td>\n",
       "      <td>0.0</td>\n",
       "      <td>...</td>\n",
       "      <td>0.0</td>\n",
       "      <td>0.0</td>\n",
       "      <td>0.0</td>\n",
       "      <td>0.0</td>\n",
       "      <td>0.0</td>\n",
       "      <td>0.0</td>\n",
       "      <td>0.000000</td>\n",
       "      <td>0.0</td>\n",
       "      <td>0.0</td>\n",
       "      <td>0.0</td>\n",
       "    </tr>\n",
       "    <tr>\n",
       "      <th>4</th>\n",
       "      <td>0.0</td>\n",
       "      <td>0.0</td>\n",
       "      <td>0.00000</td>\n",
       "      <td>0.0</td>\n",
       "      <td>0.0</td>\n",
       "      <td>0.0</td>\n",
       "      <td>0.00000</td>\n",
       "      <td>0.0</td>\n",
       "      <td>0.0</td>\n",
       "      <td>0.0</td>\n",
       "      <td>...</td>\n",
       "      <td>0.0</td>\n",
       "      <td>0.0</td>\n",
       "      <td>0.0</td>\n",
       "      <td>0.0</td>\n",
       "      <td>0.0</td>\n",
       "      <td>0.0</td>\n",
       "      <td>0.000000</td>\n",
       "      <td>0.0</td>\n",
       "      <td>0.0</td>\n",
       "      <td>0.0</td>\n",
       "    </tr>\n",
       "  </tbody>\n",
       "</table>\n",
       "<p>5 rows × 454 columns</p>\n",
       "</div>"
      ],
      "text/plain": [
       "   ability  access    adept  advanced  advertising  agile  algorithmic  \\\n",
       "0      0.0     0.0  0.00000       0.0          0.0    0.0      0.00000   \n",
       "1      0.0     0.0  0.30224       0.0          0.0    0.0      0.30224   \n",
       "2      0.0     0.0  0.00000       0.0          0.0    0.0      0.00000   \n",
       "3      0.0     0.0  0.00000       0.0          0.0    0.0      0.00000   \n",
       "4      0.0     0.0  0.00000       0.0          0.0    0.0      0.00000   \n",
       "\n",
       "   algorithms  amazing  amazon  ...  vital  warehousing  web  wide  work  \\\n",
       "0         0.0      0.0     0.0  ...    0.0          0.0  0.0   0.0   0.0   \n",
       "1         0.0      0.0     0.0  ...    0.0          0.0  0.0   0.0   0.0   \n",
       "2         0.0      0.0     0.0  ...    0.0          0.0  0.0   0.0   0.0   \n",
       "3         0.0      0.0     0.0  ...    0.0          0.0  0.0   0.0   0.0   \n",
       "4         0.0      0.0     0.0  ...    0.0          0.0  0.0   0.0   0.0   \n",
       "\n",
       "   working     works  world  xml  years  \n",
       "0      0.0  0.304901    0.0  0.0    0.0  \n",
       "1      0.0  0.000000    0.0  0.0    0.0  \n",
       "2      0.0  0.000000    0.0  0.0    0.0  \n",
       "3      0.0  0.000000    0.0  0.0    0.0  \n",
       "4      0.0  0.000000    0.0  0.0    0.0  \n",
       "\n",
       "[5 rows x 454 columns]"
      ]
     },
     "execution_count": 304,
     "metadata": {},
     "output_type": "execute_result"
    }
   ],
   "source": [
    "from sklearn.feature_extraction.text import TfidfVectorizer\n",
    "\n",
    "\n",
    "tfidf = TfidfVectorizer(stop_words='english', max_features=5000)\n",
    "\n",
    "dtm_tfidf = tfidf.fit_transform(jobs['summary'])\n",
    "docs = pd.DataFrame(dtm_tfidf.todense(), columns = tfidf.get_feature_names())\n",
    "docs.head()\n"
   ]
  },
  {
   "cell_type": "markdown",
   "metadata": {},
   "source": [
    " # 6) Create a NearestNeighbor Model. Write the description of your ideal datascience job and query your job listings. "
   ]
  },
  {
   "cell_type": "code",
   "execution_count": 317,
   "metadata": {
    "collapsed": false,
    "inputHidden": false,
    "outputHidden": false
   },
   "outputs": [
    {
     "data": {
      "text/plain": [
       "NearestNeighbors(algorithm='ball_tree', leaf_size=30, metric='minkowski',\n",
       "                 metric_params=None, n_jobs=None, n_neighbors=6, p=2,\n",
       "                 radius=1.0)"
      ]
     },
     "execution_count": 317,
     "metadata": {},
     "output_type": "execute_result"
    }
   ],
   "source": [
    "from sklearn.neighbors import NearestNeighbors\n",
    "nn = NearestNeighbors(n_neighbors=6, algorithm='ball_tree')\n",
    "\n",
    "nn.fit(dtm_tfidf.todense())"
   ]
  },
  {
   "cell_type": "code",
   "execution_count": 318,
   "metadata": {},
   "outputs": [
    {
     "data": {
      "text/plain": [
       "(array([[0., 0., 0., 0., 0., 0.]]), array([[ 52, 125,  34,  17,   0, 106]]))"
      ]
     },
     "execution_count": 318,
     "metadata": {},
     "output_type": "execute_result"
    }
   ],
   "source": [
    "nn.kneighbors(dtm_tfidf.todense()[0])"
   ]
  },
  {
   "cell_type": "code",
   "execution_count": 319,
   "metadata": {},
   "outputs": [],
   "source": [
    "job = \"As a data scientist you will look for trends and develop models that will help made other peoples jobs simpler and more effective\""
   ]
  },
  {
   "cell_type": "code",
   "execution_count": 320,
   "metadata": {},
   "outputs": [],
   "source": [
    "job_tfidf = tfidf.transform([job])"
   ]
  },
  {
   "cell_type": "code",
   "execution_count": 321,
   "metadata": {},
   "outputs": [
    {
     "data": {
      "text/plain": [
       "(array([[1.26006672, 1.26006672, 1.26006672, 1.26006672, 1.26006672,\n",
       "         1.26006672]]), array([[ 38, 126,  89,   4,  21, 107]]))"
      ]
     },
     "execution_count": 321,
     "metadata": {},
     "output_type": "execute_result"
    }
   ],
   "source": [
    "nn.kneighbors(job_tfidf.todense())"
   ]
  },
  {
   "cell_type": "code",
   "execution_count": 323,
   "metadata": {},
   "outputs": [
    {
     "name": "stdout",
     "output_type": "stream",
     "text": [
      "job_title                                          Data Scientist\n",
      "company_name                                   Elder Research Inc\n",
      "location                  Arlington, VA 22201 (Lyon Village area)\n",
      "summary         Trying different predictive modeling approache...\n",
      "summary_tok     [trying, different, predictive, modeling, appr...\n",
      "Name: 38, dtype: object\n",
      "job_title                                          Data Scientist\n",
      "company_name                                         Indeed Prime\n",
      "location                                              Norfolk, VA\n",
      "summary         Get matched – Companies apply to you with oppo...\n",
      "summary_tok     [get, matched, companies, apply, to, you, with...\n",
      "Name: 126, dtype: object\n",
      "job_title                                          Data Scientist\n",
      "company_name                                         Indeed Prime\n",
      "location                                              Norfolk, VA\n",
      "summary         Get matched – Companies apply to you with oppo...\n",
      "summary_tok     [get, matched, companies, apply, to, you, with...\n",
      "Name: 89, dtype: object\n",
      "job_title                                          Data Scientist\n",
      "company_name                                   Elder Research Inc\n",
      "location                  Arlington, VA 22201 (Lyon Village area)\n",
      "summary         Trying different predictive modeling approache...\n",
      "summary_tok     [trying, different, predictive, modeling, appr...\n",
      "Name: 4, dtype: object\n",
      "job_title                                          Data Scientist\n",
      "company_name                                   Elder Research Inc\n",
      "location                  Arlington, VA 22201 (Lyon Village area)\n",
      "summary         Trying different predictive modeling approache...\n",
      "summary_tok     [trying, different, predictive, modeling, appr...\n",
      "Name: 21, dtype: object\n",
      "job_title                                          Data Scientist\n",
      "company_name                                         Indeed Prime\n",
      "location                                              Norfolk, VA\n",
      "summary         Get matched – Companies apply to you with oppo...\n",
      "summary_tok     [get, matched, companies, apply, to, you, with...\n",
      "Name: 107, dtype: object\n"
     ]
    }
   ],
   "source": [
    "four_n = [38, 126,  89,   4,  21, 107]\n",
    "for n in four_n:\n",
    "    print(jobs.loc[n])"
   ]
  },
  {
   "cell_type": "markdown",
   "metadata": {
    "colab_type": "text",
    "id": "FiDfTWceoRkH"
   },
   "source": [
    "## Stretch Goals\n",
    "\n",
    " - Try different visualizations for words and frequencies - what story do you want to tell with the data?\n",
    " - Scrape Job Listings for the job title \"Data Analyst\". How do these differ from Data Scientist Job Listings\n",
    " - Try and identify requirements for experience specific technologies that are asked for in the job listings. How are those distributed among the job listings?\n",
    " - Use a clustering algorithm to cluster documents by their most important terms. Do the clusters reveal any common themes?\n",
    "  - **Hint:** K-means might not be the best algorithm for this. Do a little bit of research to see what might be good for this. Also, remember that algorithms that depend on Euclidean distance break down with high dimensional data."
   ]
  }
 ],
 "metadata": {
  "colab": {
   "collapsed_sections": [],
   "name": "LS_DS_422_BOW_Assignment.ipynb",
   "provenance": [],
   "version": "0.3.2"
  },
  "kernel_info": {
   "name": "python3"
  },
  "kernelspec": {
   "display_name": "Python 3",
   "language": "python",
   "name": "python3"
  },
  "language_info": {
   "codemirror_mode": {
    "name": "ipython",
    "version": 3
   },
   "file_extension": ".py",
   "mimetype": "text/x-python",
   "name": "python",
   "nbconvert_exporter": "python",
   "pygments_lexer": "ipython3",
   "version": "3.7.3"
  },
  "nteract": {
   "version": "0.14.3"
  }
 },
 "nbformat": 4,
 "nbformat_minor": 2
}
